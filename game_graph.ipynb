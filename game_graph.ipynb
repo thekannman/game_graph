{
 "cells": [
  {
   "cell_type": "code",
   "execution_count": 220,
   "metadata": {
    "ExecuteTime": {
     "end_time": "2018-03-19T04:16:22.388988Z",
     "start_time": "2018-03-19T04:16:22.353393Z"
    }
   },
   "outputs": [],
   "source": [
    "from abc import ABCMeta, abstractmethod\n",
    "\n",
    "import networkx as nx\n",
    "import matplotlib.pyplot as plt\n",
    "%matplotlib inline"
   ]
  },
  {
   "cell_type": "code",
   "execution_count": 221,
   "metadata": {
    "ExecuteTime": {
     "end_time": "2018-03-19T04:16:22.769329Z",
     "start_time": "2018-03-19T04:16:22.765820Z"
    }
   },
   "outputs": [],
   "source": [
    "G = nx.Graph()"
   ]
  },
  {
   "cell_type": "code",
   "execution_count": 329,
   "metadata": {
    "ExecuteTime": {
     "end_time": "2018-03-19T05:27:18.062808Z",
     "start_time": "2018-03-19T05:27:17.837678Z"
    }
   },
   "outputs": [
    {
     "name": "stdout",
     "output_type": "stream",
     "text": [
      "<__main__._Move object at 0x00000207F497C080>\n",
      "<__main__._Move object at 0x00000207F497C470>\n",
      "<__main__._Move object at 0x00000207F497C278>\n",
      "<__main__._Move object at 0x00000207F497C208>\n",
      "<__main__._Move object at 0x00000207F497C278>\n",
      "<__main__._Move object at 0x00000207F497C470>\n",
      "<__main__._Move object at 0x00000207F497C278>\n",
      "<__main__._Move object at 0x00000207F497C208>\n",
      "<__main__._Move object at 0x00000207F497C278>\n",
      "<__main__._Move object at 0x00000207F497C470>\n",
      "<__main__._Move object at 0x00000207F497C278>\n"
     ]
    }
   ],
   "source": [
    "class _Move:\n",
    "  def __init__(self, move):\n",
    "    self.move = move\n",
    "\n",
    "  def __call__(self):\n",
    "    return self.move\n",
    "\n",
    "class Move:\n",
    "  default_move = [0,0]\n",
    "  def __new__(*args):\n",
    "    return _Move(args[0].__call__(*args))\n",
    "    \n",
    "  def __call__(*args):\n",
    "    if len(args)==1:\n",
    "      return args[0].default_move\n",
    "    elif len(args)==2:\n",
    "      return args[1]\n",
    "    elif len(args)==3:\n",
    "      return [*args[1:]]\n",
    "    else:\n",
    "      return None\n",
    "\n",
    "class Down(Move):\n",
    "  default_move = [-1,0]\n",
    "\n",
    "  def __call__(*args):\n",
    "    if len(args)==1:\n",
    "      return args[0].default_move\n",
    "    elif len(args)==2:\n",
    "      return [-args[1],0]\n",
    "    else:\n",
    "      return None\n",
    "\n",
    "class Up(Move):\n",
    "  default_move = [1,0]\n",
    "\n",
    "  def __call__(*args):\n",
    "    if len(args)==1:\n",
    "      return args[0].default_move\n",
    "    elif len(args)==2:\n",
    "      return [args[1],0]\n",
    "    else:\n",
    "      return None\n",
    " \n",
    "class Left(Move):\n",
    "  default_move = [0,-1]\n",
    "\n",
    "  def __call__(*args):\n",
    "    if len(args)==1:\n",
    "      return args[0].default_move\n",
    "    elif len(args)==2:\n",
    "      return [0,-args[1]]\n",
    "    else:\n",
    "      return None\n",
    "\n",
    "class Right(Move):\n",
    "  default_move = [0,1]\n",
    "\n",
    "  def __call__(*args):\n",
    "    if len(args)==1:\n",
    "      return args[0].default_move\n",
    "    elif len(args)==2:\n",
    "      return [0,args[1]]\n",
    "    else:\n",
    "      return None\n",
    "    \n",
    "print(Move()\n",
    "print(Move([0,2]))\n",
    "print(Move(0,2))\n",
    "print(Down())\n",
    "print(Down(3))\n",
    "print(Up())\n",
    "print(Up(3))\n",
    "print(Left())\n",
    "print(Left(3))\n",
    "print(Right())\n",
    "print(Right(3))"
   ]
  },
  {
   "cell_type": "code",
   "execution_count": 328,
   "metadata": {
    "ExecuteTime": {
     "end_time": "2018-03-19T05:26:49.505215Z",
     "start_time": "2018-03-19T05:26:49.498695Z"
    }
   },
   "outputs": [
    {
     "data": {
      "text/plain": [
       "[1, 3]"
      ]
     },
     "execution_count": 328,
     "metadata": {},
     "output_type": "execute_result"
    }
   ],
   "source": []
  },
  {
   "cell_type": "code",
   "execution_count": 340,
   "metadata": {
    "ExecuteTime": {
     "end_time": "2018-03-20T00:18:22.772649Z",
     "start_time": "2018-03-20T00:18:22.540251Z"
    }
   },
   "outputs": [],
   "source": [
    "class Board:\n",
    "  \n",
    "  def __init__(self, width, length, error_code=-1):\n",
    "    self.pos_type = list\n",
    "    self.width = width\n",
    "    self.length = length\n",
    "    self.board_size = width*length\n",
    "    self.error_code = error_code\n",
    "\n",
    "  def row_from_pos_code(self, pos_code):\n",
    "    return self.validated_row(pos_code/self.width)\n",
    "  \n",
    "  def col_from_pos_code(self, pos_code):\n",
    "    return self.validated_col(pos_code%self.width)\n",
    "    \n",
    "  def pos_from_pos_code(self, pos_code):\n",
    "    return [self.row_from_pos_code(pos_code),\n",
    "            self.col_from_pos_code(pos_code)]\n",
    "    \n",
    "  def pos(self, pos_either):\n",
    "    return pos_either if pos_either.__class__==self.pos_type else self.pos_from_pos_code(pos_either) \n",
    "    \n",
    "  def row(self, pos):\n",
    "    pos = self.pos(pos)\n",
    "    return self.validated_row(pos[0])\n",
    "  \n",
    "  def col(self, pos):\n",
    "    pos = self.pos(pos)\n",
    "    return self.validated_col(pos[1])\n",
    "\n",
    "  def is_in_range(self, pos_code, min, max, left_inclusive=True, right_inclusive=False):\n",
    "    if left_inclusive:\n",
    "      min -= 1\n",
    "    if right_inclusive:\n",
    "      max += 1\n",
    "    return True if pos_code>min and pos_code<max else False\n",
    "    \n",
    "  def is_valid_pos_code(self, pos):\n",
    "    return self.is_in_range(pos, 0, self.board_size)\n",
    "  \n",
    "  def is_valid_row(self, row):\n",
    "    return self.is_in_range(row, 0, self.length)\n",
    "  \n",
    "  def is_valid_col(self, col):\n",
    "    return self.is_in_range(col, 0, self.width)\n",
    "\n",
    "  def is_valid_pos(self, pos):\n",
    "    return self.is_valid_row(self.row(pos)) and self.is_valid_col(self.col(pos))\n",
    "\n",
    "  def validated_pos(self, pos):\n",
    "    return pos if self.is_valid_pos(pos) else self.error_code\n",
    "\n",
    "  def validated_row(self, row):\n",
    "    return row if self.is_valid_row(row) else self.error_code\n",
    "\n",
    "  def validated_col(self, col):\n",
    "    return col if self.is_valid_col(col) else self.error_code\n",
    "  \n",
    "  def is_same_row(self, pos1, pos2):\n",
    "    return self.row(pos1)==self.row(pos2)\n",
    "  \n",
    "  def is_same_col(self, pos1, pos2):\n",
    "    return self.col(pos1)==self.col(pos2)\n",
    "   \n",
    "  def move(self, init_pos, move):\n",
    "    if not isinstance(move,_Move):\n",
    "      raise \"move must be a Move\"\n",
    "    init_pos = self.pos(init_pos)\n",
    "    return self.validated_pos(list(map(sum,zip(init_pos,move()))))\n",
    "    "
   ]
  },
  {
   "cell_type": "code",
   "execution_count": 341,
   "metadata": {
    "ExecuteTime": {
     "end_time": "2018-03-20T00:18:22.996924Z",
     "start_time": "2018-03-20T00:18:22.992913Z"
    }
   },
   "outputs": [],
   "source": [
    "board = Board(8,8)"
   ]
  },
  {
   "cell_type": "code",
   "execution_count": 342,
   "metadata": {
    "ExecuteTime": {
     "end_time": "2018-03-20T00:18:23.236587Z",
     "start_time": "2018-03-20T00:18:23.230574Z"
    }
   },
   "outputs": [
    {
     "data": {
      "text/plain": [
       "[5, 0]"
      ]
     },
     "execution_count": 342,
     "metadata": {},
     "output_type": "execute_result"
    }
   ],
   "source": [
    "board.move([0,0],Up(5))"
   ]
  },
  {
   "cell_type": "code",
   "execution_count": 59,
   "metadata": {
    "ExecuteTime": {
     "end_time": "2018-03-19T01:45:18.266037Z",
     "start_time": "2018-03-19T01:45:18.261024Z"
    }
   },
   "outputs": [],
   "source": [
    "board_width = 8\n",
    "board_length = 8\n",
    "board_size = board_width*board_length\n",
    "labels = range(0,board_size)\n",
    "G.add_nodes_from(labels)\n",
    "pos = {i:(i%8,int(i/8)) for i in labels}"
   ]
  },
  {
   "cell_type": "code",
   "execution_count": 71,
   "metadata": {
    "ExecuteTime": {
     "end_time": "2018-03-19T01:51:27.145313Z",
     "start_time": "2018-03-19T01:51:27.139302Z"
    }
   },
   "outputs": [],
   "source": [
    "pawn_graph = G.copy()\n",
    "for i in range(0,board_size-board_width):\n",
    "  pawn_graph.add_edge(i,i+8)\n",
    "\n",
    "bishop_graph = G.copy()\n",
    "for i in range(0,board_size):\n",
    "  \n",
    "  pawn_graph.add_edge(i,)"
   ]
  },
  {
   "cell_type": "code",
   "execution_count": null,
   "metadata": {},
   "outputs": [],
   "source": []
  },
  {
   "cell_type": "code",
   "execution_count": 69,
   "metadata": {
    "ExecuteTime": {
     "end_time": "2018-03-19T01:50:53.636034Z",
     "start_time": "2018-03-19T01:50:53.048907Z"
    }
   },
   "outputs": [
    {
     "data": {
      "image/png": "[encoded data removed]",
      "text/plain": [
       "<matplotlib.figure.Figure at 0x207e812fe10>"
      ]
     },
     "metadata": {},
     "output_type": "display_data"
    }
   ],
   "source": [
    "nx.draw_networkx(G,pos)"
   ]
  }
 ],
 "metadata": {
  "hide_input": false,
  "kernelspec": {
   "display_name": "Python 3",
   "language": "python",
   "name": "python3"
  },
  "language_info": {
   "codemirror_mode": {
    "name": "ipython",
    "version": 3
   },
   "file_extension": ".py",
   "mimetype": "text/x-python",
   "name": "python",
   "nbconvert_exporter": "python",
   "pygments_lexer": "ipython3",
   "version": "3.6.4"
  },
  "nbTranslate": {
   "displayLangs": [
    "*"
   ],
   "hotkey": "alt-t",
   "langInMainMenu": true,
   "sourceLang": "en",
   "targetLang": "fr",
   "useGoogleTranslate": true
  },
  "toc": {
   "nav_menu": {},
   "number_sections": true,
   "sideBar": true,
   "skip_h1_title": false,
   "title_cell": "Table of Contents",
   "title_sidebar": "Contents",
   "toc_cell": false,
   "toc_position": {},
   "toc_section_display": true,
   "toc_window_display": false
  },
  "varInspector": {
   "cols": {
    "lenName": 16,
    "lenType": 16,
    "lenVar": 40
   },
   "kernels_config": {
    "python": {
     "delete_cmd_postfix": "",
     "delete_cmd_prefix": "del ",
     "library": "var_list.py",
     "varRefreshCmd": "print(var_dic_list())"
    },
    "r": {
     "delete_cmd_postfix": ") ",
     "delete_cmd_prefix": "rm(",
     "library": "var_list.r",
     "varRefreshCmd": "cat(var_dic_list()) "
    }
   },
   "types_to_exclude": [
    "module",
    "function",
    "builtin_function_or_method",
    "instance",
    "_Feature"
   ],
   "window_display": false
  }
 },
 "nbformat": 4,
 "nbformat_minor": 2
}
